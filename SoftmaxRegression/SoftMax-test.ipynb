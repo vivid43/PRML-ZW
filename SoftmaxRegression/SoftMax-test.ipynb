{
 "cells": [
  {
   "cell_type": "code",
   "execution_count": 1,
   "metadata": {
    "collapsed": true
   },
   "outputs": [],
   "source": [
    "import numpy as np\n",
    "import pandas as pd"
   ]
  },
  {
   "cell_type": "code",
   "execution_count": 2,
   "metadata": {
    "collapsed": true
   },
   "outputs": [],
   "source": [
    "class SoftMax():\n",
    "\tdef __init__(self,alpha = 1.0,maxIteration = 1000):\n",
    "\t\tself.maxIteration = int(maxIteration)\n",
    "\t\tself.alpha=float(alpha)\n",
    "\n",
    "\tdef fit(self,X_,y):\n",
    "\t\tX = np.hstack((np.ones((X_.shape[0],1)),X_))\n",
    "\t\tm,n = X.shape\n",
    "\t\tk=y.shape[1]\n",
    "\t\tself.theta = np.ones((n,k))\n",
    "\t\tfor i in range(self.maxIteration):\n",
    "\t\t\ttheta_prev = np.copy(self.theta)\n",
    "\t\t\tDtheta = -X.T@(y-self.softmax(X,self.theta))/m\n",
    "\t\t\tself.theta -= self.alpha*Dtheta\n",
    "\t\t\tif np.allclose(self.theta, theta_prev):\n",
    "\t\t\t\tbreak\n",
    "\t\taccuracy = self.acc(self.predict(X_),np.argmax(y,axis=1).reshape(-1,1))\n",
    "\t\tprint(\"Iteration:{}\".format(i))\n",
    "\t\tprint('train_accuracy:{}'.format(accuracy))\n",
    "\n",
    "\n",
    "\tdef softmax(self,X,theta):\n",
    "\t\ttemp = np.exp(X @ theta)\n",
    "\t\treturn temp/np.sum(temp,axis=1).reshape(-1,1)\n",
    "\n",
    "\n",
    "\tdef predict(self,X_):\n",
    "\t\tX = np.hstack((np.ones((X_.shape[0],1)),X_))\n",
    "\t\treturn np.argmax(self.softmax(X,self.theta),axis=1).reshape(-1,1)\n",
    "\tdef acc(self,y,y_pred):\n",
    "\t\treturn 1-np.count_nonzero(y-y_pred)/y.shape[0]"
   ]
  },
  {
   "cell_type": "code",
   "execution_count": 3,
   "metadata": {
    "collapsed": true
   },
   "outputs": [],
   "source": [
    "def scale_feature(data):\n",
    "    n = data.shape[1]\n",
    "    for i in range(n):\n",
    "        Max = max(data.iloc[:,i])\n",
    "        Min = min(data.iloc[:,i])\n",
    "        if Max != Min:\n",
    "            data.iloc[:,i] = data.iloc[:,i].apply(lambda x: (x-Min)/(Max-Min))\n",
    "        else:\n",
    "            data.iloc[:,i] = 0.\n",
    "    return data"
   ]
  },
  {
   "cell_type": "code",
   "execution_count": 4,
   "metadata": {
    "collapsed": true
   },
   "outputs": [],
   "source": [
    "train = pd.read_csv('spamtrain.csv', header=None)\n",
    "X_train = scale_feature(train.iloc[:,:-1]).values\n",
    "Y_train1 = train.iloc[:,-1].values.reshape(-1,1)\n",
    "Y_train2 = np.hstack(((Y_train1-1)**2,Y_train1))\n",
    "#print('X_train=', X_train, 'Y_train=', Y_train)\n",
    "\n",
    "test = pd.read_csv('spamtest.csv', header=None)\n",
    "X_test = scale_feature(test.iloc[:,:-1]).values\n",
    "Y_test1 = test.iloc[:,-1].values.reshape(-1,1)\n",
    "Y_test2 = np.hstack(((Y_test1-1)**2,Y_test1))"
   ]
  },
  {
   "cell_type": "code",
   "execution_count": 5,
   "metadata": {},
   "outputs": [
    {
     "name": "stdout",
     "output_type": "stream",
     "text": [
      "Iteration:999\n",
      "train_accuracy:0.9090579710144928\n"
     ]
    }
   ],
   "source": [
    "model = SoftMax(5,1000)\n",
    "model.fit(X_train, Y_train2)"
   ]
  },
  {
   "cell_type": "code",
   "execution_count": 6,
   "metadata": {},
   "outputs": [
    {
     "data": {
      "text/plain": [
       "0.8913633894622488"
      ]
     },
     "execution_count": 6,
     "metadata": {},
     "output_type": "execute_result"
    }
   ],
   "source": [
    "model.acc(model.predict(X_test),Y_test1)"
   ]
  }
 ],
 "metadata": {
  "kernelspec": {
   "display_name": "Python 3",
   "language": "python",
   "name": "python3"
  },
  "language_info": {
   "codemirror_mode": {
    "name": "ipython",
    "version": 3
   },
   "file_extension": ".py",
   "mimetype": "text/x-python",
   "name": "python",
   "nbconvert_exporter": "python",
   "pygments_lexer": "ipython3",
   "version": "3.6.3"
  }
 },
 "nbformat": 4,
 "nbformat_minor": 2
}
