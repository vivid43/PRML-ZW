{
 "cells": [
  {
   "cell_type": "code",
   "execution_count": 2,
   "metadata": {
    "collapsed": true
   },
   "outputs": [],
   "source": [
    "#coding=utf8\n",
    "import numpy as np\n",
    "import pandas as pd\n",
    "import logistic_regression as LR\n",
    "import logistic_regression_L2 as LR_L2\n",
    "from linear_regression import LinearRegression"
   ]
  },
  {
   "cell_type": "code",
   "execution_count": 3,
   "metadata": {},
   "outputs": [
    {
     "name": "stdout",
     "output_type": "stream",
     "text": [
      "0.89 99\n",
      "iteration: 0;   Accuracy: 0.76; Derivate: 0.23383583164825747\n",
      "iteration: 100;   Accuracy: 0.92; Derivate: 0.07853676599567708\n",
      "iteration: 200;   Accuracy: 0.92; Derivate: 0.07853676599567708\n",
      "iteration: 300;   Accuracy: 0.92; Derivate: 0.07853676599567708\n",
      "iteration: 400;   Accuracy: 0.92; Derivate: 0.07853676599567708\n",
      "iteration: 500;   Accuracy: 0.92; Derivate: 0.07853676599567708\n",
      "iteration: 600;   Accuracy: 0.92; Derivate: 0.07853676599567708\n",
      "iteration: 700;   Accuracy: 0.92; Derivate: 0.07853676599567708\n",
      "iteration: 800;   Accuracy: 0.92; Derivate: 0.07853676599567708\n",
      "iteration: 900;   Accuracy: 0.92; Derivate: 0.07853676599567708\n",
      "Break at the 999 iteration: the accuracy of training set is  0.92\n",
      "the d_norm is 0.07853676599567708\n"
     ]
    }
   ],
   "source": [
    "# test1: use the simple data set to check our model\n",
    "data = pd.read_csv('simple_data.csv')\n",
    "\n",
    "X_train=data.iloc[:,1:-1].values\n",
    "y_train=data.iloc[:,-1].values.reshape((-1,1))\n",
    "\n",
    "model_1 = LR.LogisticRegression(alpha=10,maxIteration=1000,epsilon=0.001)\n",
    "model_1.fit(X_train,y_train)\n",
    "\n",
    "model_2 = LR_L2.LogisticRegression(alpha=10,lmbda=2,maxiter=1000,epsilon=0.001)\n",
    "model_2.fit(X_train,y_train)"
   ]
  },
  {
   "cell_type": "code",
   "execution_count": 4,
   "metadata": {
    "collapsed": true
   },
   "outputs": [],
   "source": [
    "def scale_feature(data):\n",
    "    n = data.shape[1]\n",
    "    for i in range(n):\n",
    "        Max = max(data.iloc[:,i])\n",
    "        Min = min(data.iloc[:,i])\n",
    "        data.iloc[:,i] = data.iloc[:,i].apply(lambda x: (x-Min)/(Max-Min+0.0000000000001))\n",
    "    return data"
   ]
  },
  {
   "cell_type": "code",
   "execution_count": 5,
   "metadata": {},
   "outputs": [
    {
     "name": "stdout",
     "output_type": "stream",
     "text": [
      "0.9032608695652173 999\n",
      "model_1 accuracy is:0.8810429114611624\n",
      "iteration: 0;   Accuracy: 0.6746376811594204; Derivate: 0.17937565573280914\n",
      "iteration: 100;   Accuracy: 0.8119565217391305; Derivate: 0.10112741948487391\n",
      "iteration: 200;   Accuracy: 0.8547101449275363; Derivate: 0.08623382911486338\n",
      "iteration: 300;   Accuracy: 0.868840579710145; Derivate: 0.0802367301914699\n",
      "iteration: 400;   Accuracy: 0.8768115942028986; Derivate: 0.0772311298355199\n",
      "iteration: 500;   Accuracy: 0.8807971014492754; Derivate: 0.07554196974088825\n",
      "iteration: 600;   Accuracy: 0.8804347826086957; Derivate: 0.07452063587257375\n",
      "iteration: 700;   Accuracy: 0.8804347826086957; Derivate: 0.07387055895917648\n",
      "iteration: 800;   Accuracy: 0.8815217391304347; Derivate: 0.07344101310607097\n",
      "iteration: 900;   Accuracy: 0.8818840579710145; Derivate: 0.07314919119306194\n",
      "Break at the 999 iteration: the accuracy of training set is  0.8818840579710145\n",
      "the d_norm is 0.07294840831015992\n",
      "model_2 accuracy is:0.8229223248234655\n"
     ]
    }
   ],
   "source": [
    "# test2: use the complex data set check our model\n",
    "train = pd.read_csv('spamtrain.csv',header = None)\n",
    "test = pd.read_csv('spamtest.csv',header = None)\n",
    "\n",
    "X_train = scale_feature(train.iloc[:,:-1]).values\n",
    "y_train = train.iloc[:,57].values.reshape(-1,1)\n",
    "X_test = scale_feature(test.iloc[:,:-1]).values\n",
    "y_test = test.iloc[:,57].values.reshape(-1,1)\n",
    "\n",
    "model_1 = LR.LogisticRegression(alpha=5,maxIteration=1000,epsilon=0.001)\n",
    "model_1.fit(X_train,y_train)\n",
    "acc_1 = 1-np.count_nonzero(y_test-model_1.predict(X_test))/y_test.shape[0]\n",
    "print('model_1 accuracy is:{}'.format(acc_1))\n",
    "\n",
    "model_2 = LR_L2.LogisticRegression(alpha=5,lmbda=1,maxiter=1000,epsilon=0.001)\n",
    "model_2.fit(X_train,y_train)\n",
    "acc_2 = 1-np.count_nonzero(y_test-model_2.predict(X_test))/y_test.shape[0]\n",
    "print('model_2 accuracy is:{}'.format(acc_2))"
   ]
  },
  {
   "cell_type": "code",
   "execution_count": null,
   "metadata": {
    "collapsed": true
   },
   "outputs": [],
   "source": []
  }
 ],
 "metadata": {
  "kernelspec": {
   "display_name": "Python 3",
   "language": "python",
   "name": "python3"
  },
  "language_info": {
   "codemirror_mode": {
    "name": "ipython",
    "version": 3
   },
   "file_extension": ".py",
   "mimetype": "text/x-python",
   "name": "python",
   "nbconvert_exporter": "python",
   "pygments_lexer": "ipython3",
   "version": "3.6.3"
  }
 },
 "nbformat": 4,
 "nbformat_minor": 2
}
